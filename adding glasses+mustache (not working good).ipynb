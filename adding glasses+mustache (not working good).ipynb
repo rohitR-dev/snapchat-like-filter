{
 "cells": [
  {
   "cell_type": "code",
   "execution_count": 27,
   "id": "455c2a8c",
   "metadata": {},
   "outputs": [],
   "source": [
    "import cv2"
   ]
  },
  {
   "cell_type": "code",
   "execution_count": 33,
   "id": "80296a44",
   "metadata": {},
   "outputs": [],
   "source": [
    "frontal_eyes=cv2.CascadeClassifier(\"frontalEyes35x16.xml\")\n",
    "frontal_nose=cv2.CascadeClassifier(\"Nose18x15.xml\")\n",
    "\n",
    "glasses=cv2.imread(\"glasses.png\",cv2.IMREAD_UNCHANGED)\n",
    "mustache=cv2.imread(\"mustache.png\",cv2.IMREAD_UNCHANGED)\n",
    "\n",
    "\n",
    "img = cv2.imread(\"Before.png\")\n",
    "\n",
    "width = int(img.shape[1] * 0.5)  # 50% of the original width\n",
    "height = int(img.shape[0] * 0.5)  # 50% of the original height\n",
    "dim = (width, height)\n",
    "resized_img = cv2.resize(img, dim)\n"
   ]
  },
  {
   "cell_type": "code",
   "execution_count": null,
   "id": "e9673733",
   "metadata": {},
   "outputs": [],
   "source": [
    "# Detect eyes and nose in the resized image\n",
    "eyes = frontal_eyes.detectMultiScale(resized_img, 1.3, 5)\n",
    "nose = frontal_nose.detectMultiScale(resized_img, 1.3, 5)\n",
    "\n",
    "# Function to overlay one image on another\n",
    "def overlay_image(background, overlay, x, y, w, h):\n",
    "    overlay_resized = cv2.resize(overlay, (w, h))  # Resize overlay image to fit the detected region\n",
    "\n",
    "    if overlay_resized.shape[2] == 4:  # If the image has an alpha channel (transparency)\n",
    "        alpha_s = overlay_resized[:, :, 3] / 255.0  # Alpha channel\n",
    "        alpha_b = 1.0 - alpha_s  # Inverted alpha\n",
    "\n",
    "        for c in range(0, 3):  # Loop over the color channels (BGR)\n",
    "            background[y:y+h, x:x+w, c] = (alpha_s * overlay_resized[:, :, c] +\n",
    "                                           alpha_b * background[y:y+h, x:x+w, c])\n",
    "    else:\n",
    "        # If no alpha channel, simply overlay the image\n",
    "        background[y:y+h, x:x+w] = overlay_resized\n",
    "\n",
    "# Overlay the glasses on the eyes\n",
    "for (x, y, w, h) in eyes:\n",
    "    overlay_image(resized_img, glasses, x, y, w, h)\n",
    "\n",
    "# Overlay the mustache on the nose\n",
    "for (x, y, w, h) in nose:\n",
    "    overlay_image(resized_img, mustache, x, y + int(h/2), w, h)  # Adjust y-coordinate for better placement\n",
    "\n",
    "# Display the final image\n",
    "cv2.imshow('Before', resized_img)\n",
    "cv2.waitKey(0)\n",
    "cv2.destroyAllWindows()"
   ]
  },
  {
   "cell_type": "code",
   "execution_count": null,
   "id": "f7e8d37b",
   "metadata": {},
   "outputs": [],
   "source": []
  }
 ],
 "metadata": {
  "kernelspec": {
   "display_name": "Python 3 (ipykernel)",
   "language": "python",
   "name": "python3"
  },
  "language_info": {
   "codemirror_mode": {
    "name": "ipython",
    "version": 3
   },
   "file_extension": ".py",
   "mimetype": "text/x-python",
   "name": "python",
   "nbconvert_exporter": "python",
   "pygments_lexer": "ipython3",
   "version": "3.11.5"
  }
 },
 "nbformat": 4,
 "nbformat_minor": 5
}
