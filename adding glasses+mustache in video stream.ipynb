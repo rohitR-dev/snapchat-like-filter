{
 "cells": [
  {
   "cell_type": "code",
   "execution_count": 10,
   "id": "2b5a4bbd",
   "metadata": {},
   "outputs": [],
   "source": [
    "import cv2"
   ]
  },
  {
   "cell_type": "code",
   "execution_count": 11,
   "id": "9d9b91b5",
   "metadata": {},
   "outputs": [],
   "source": [
    "cap = cv2.VideoCapture(0)\n",
    "glasses = cv2.imread(\"glasses.png\",cv2.IMREAD_UNCHANGED)\n",
    "mustache = cv2.imread(\"mustache.png\",cv2.IMREAD_UNCHANGED)\n",
    "eyes_cascade = cv2.CascadeClassifier(\"frontalEyes35x16.xml\")\n",
    "nose_cascade = cv2.CascadeClassifier(\"Nose18x15.xml\")"
   ]
  },
  {
   "cell_type": "code",
   "execution_count": 12,
   "id": "8ce8daf6",
   "metadata": {},
   "outputs": [],
   "source": [
    "def overlay_image(background, overlay, x, y, w, h):\n",
    "    overlay_resized = cv2.resize(overlay, (w, h))\n",
    "\n",
    "    # Check if overlay image has 4 channels (alpha channel for transparency)\n",
    "    if overlay_resized.shape[2] == 4:\n",
    "        alpha_s = overlay_resized[:, :, 3] / 255.0\n",
    "        alpha_b = 1.0 - alpha_s\n",
    "        for c in range(0, 3):\n",
    "            background[y:y+h, x:x+w, c] = (alpha_s * overlay_resized[:, :, c] +\n",
    "                                           alpha_b * background[y:y+h, x:x+w, c])\n",
    "    else:\n",
    "        # If no alpha channel, just overlay the resized image directly\n",
    "        background[y:y+h, x:x+w] = overlay_resized\n"
   ]
  },
  {
   "cell_type": "code",
   "execution_count": 13,
   "id": "4a9a310a",
   "metadata": {},
   "outputs": [
    {
     "ename": "ValueError",
     "evalue": "operands could not be broadcast together with shapes (50,60) (46,60) ",
     "output_type": "error",
     "traceback": [
      "\u001b[1;31m---------------------------------------------------------------------------\u001b[0m",
      "\u001b[1;31mValueError\u001b[0m                                Traceback (most recent call last)",
      "Cell \u001b[1;32mIn[13], line 12\u001b[0m\n\u001b[0;32m     10\u001b[0m     overlay_image(frame, glasses, x, y, w, h)\n\u001b[0;32m     11\u001b[0m \u001b[38;5;28;01mfor\u001b[39;00m (x, y, w, h) \u001b[38;5;129;01min\u001b[39;00m nose:\n\u001b[1;32m---> 12\u001b[0m     overlay_image(frame, mustache, x, y \u001b[38;5;241m+\u001b[39m \u001b[38;5;28mint\u001b[39m(h\u001b[38;5;241m/\u001b[39m\u001b[38;5;241m2\u001b[39m), w, h)\n\u001b[0;32m     14\u001b[0m cv2\u001b[38;5;241m.\u001b[39mimshow(\u001b[38;5;124m\"\u001b[39m\u001b[38;5;124mFaces\u001b[39m\u001b[38;5;124m\"\u001b[39m, frame)\n\u001b[0;32m     16\u001b[0m key \u001b[38;5;241m=\u001b[39m cv2\u001b[38;5;241m.\u001b[39mwaitKey(\u001b[38;5;241m1\u001b[39m) \u001b[38;5;241m&\u001b[39m \u001b[38;5;241m0xFF\u001b[39m\n",
      "Cell \u001b[1;32mIn[12], line 10\u001b[0m, in \u001b[0;36moverlay_image\u001b[1;34m(background, overlay, x, y, w, h)\u001b[0m\n\u001b[0;32m      7\u001b[0m     alpha_b \u001b[38;5;241m=\u001b[39m \u001b[38;5;241m1.0\u001b[39m \u001b[38;5;241m-\u001b[39m alpha_s\n\u001b[0;32m      8\u001b[0m     \u001b[38;5;28;01mfor\u001b[39;00m c \u001b[38;5;129;01min\u001b[39;00m \u001b[38;5;28mrange\u001b[39m(\u001b[38;5;241m0\u001b[39m, \u001b[38;5;241m3\u001b[39m):\n\u001b[0;32m      9\u001b[0m         background[y:y\u001b[38;5;241m+\u001b[39mh, x:x\u001b[38;5;241m+\u001b[39mw, c] \u001b[38;5;241m=\u001b[39m (alpha_s \u001b[38;5;241m*\u001b[39m overlay_resized[:, :, c] \u001b[38;5;241m+\u001b[39m\n\u001b[1;32m---> 10\u001b[0m                                        alpha_b \u001b[38;5;241m*\u001b[39m background[y:y\u001b[38;5;241m+\u001b[39mh, x:x\u001b[38;5;241m+\u001b[39mw, c])\n\u001b[0;32m     11\u001b[0m \u001b[38;5;28;01melse\u001b[39;00m:\n\u001b[0;32m     12\u001b[0m     \u001b[38;5;66;03m# If no alpha channel, just overlay the resized image directly\u001b[39;00m\n\u001b[0;32m     13\u001b[0m     background[y:y\u001b[38;5;241m+\u001b[39mh, x:x\u001b[38;5;241m+\u001b[39mw] \u001b[38;5;241m=\u001b[39m overlay_resized\n",
      "\u001b[1;31mValueError\u001b[0m: operands could not be broadcast together with shapes (50,60) (46,60) "
     ]
    }
   ],
   "source": [
    "while True:\n",
    "    ret,frame = cap.read()\n",
    "    if ret == False:\n",
    "        continue\n",
    "    \n",
    "    eyes = eyes_cascade.detectMultiScale(frame,1.3,5)\n",
    "    nose = nose_cascade.detectMultiScale(frame,1.3,5)\n",
    "    \n",
    "    for (x, y, w, h) in eyes:\n",
    "        overlay_image(frame, glasses, x, y, w, h)\n",
    "    for (x, y, w, h) in nose:\n",
    "        overlay_image(frame, mustache, x, y + int(h/2), w, h)\n",
    "    \n",
    "    cv2.imshow(\"Faces\", frame)\n",
    "    \n",
    "    key = cv2.waitKey(1) & 0xFF\n",
    "    if key == ord('q'):\n",
    "        break\n",
    "\n",
    "cap.release()\n",
    "cv2.destroyAllWindows()\n",
    "    "
   ]
  },
  {
   "cell_type": "code",
   "execution_count": null,
   "id": "b5f7b161",
   "metadata": {},
   "outputs": [],
   "source": []
  }
 ],
 "metadata": {
  "kernelspec": {
   "display_name": "Python 3 (ipykernel)",
   "language": "python",
   "name": "python3"
  },
  "language_info": {
   "codemirror_mode": {
    "name": "ipython",
    "version": 3
   },
   "file_extension": ".py",
   "mimetype": "text/x-python",
   "name": "python",
   "nbconvert_exporter": "python",
   "pygments_lexer": "ipython3",
   "version": "3.11.5"
  }
 },
 "nbformat": 4,
 "nbformat_minor": 5
}
